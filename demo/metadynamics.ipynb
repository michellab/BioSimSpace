{
 "cells": [
  {
   "cell_type": "markdown",
   "metadata": {},
   "source": [
    "# Metadynamics\n",
    "\n",
    "In this notebook you'll use BioSimspace to set up and run a simple [metadynamics](https://en.wikipedia.org/wiki/Metadynamics) simulation to calculate the free energy as a function of the $\\phi$ and $\\psi$ dihedral angles for an alanine dipeptide molecule in vacuum.\n",
    "\n",
    "![alanine dipeptide](https://raw.githubusercontent.com/CCPBioSim/biosimspace-advanced-simulation/de3f65372b49879b788f46618e0bfef78b2559b9/metadynamics/assets/alanine_dipeptide.png)\n",
    "\n",
    "\n",
    "First, let's import BioSimSpace:"
   ]
  },
  {
   "cell_type": "code",
   "execution_count": null,
   "metadata": {},
   "outputs": [],
   "source": [
    "import BioSimSpace as BSS"
   ]
  },
  {
   "cell_type": "markdown",
   "metadata": {},
   "source": [
    "Let's load the alanine dipeptide system from file:"
   ]
  },
  {
   "cell_type": "code",
   "execution_count": null,
   "metadata": {},
   "outputs": [],
   "source": [
    "system = BSS.IO.readMolecules(BSS.IO.glob(\"amber/ala/*\"))"
   ]
  },
  {
   "cell_type": "markdown",
   "metadata": {},
   "source": [
    "Note that this is a solvated system, which contains the alanine dipeptide and a bunch of water molecules. Since we want to study the molecule in vacuum, we will extract the alanine dipeptide using a search:"
   ]
  },
  {
   "cell_type": "code",
   "execution_count": null,
   "metadata": {},
   "outputs": [],
   "source": [
    "search = system.search(\"molecule with resname ALA\")\n",
    "print(search)"
   ]
  },
  {
   "cell_type": "markdown",
   "metadata": {},
   "source": [
    "We found a single matching result. Lets extract the result from the search object:"
   ]
  },
  {
   "cell_type": "code",
   "execution_count": null,
   "metadata": {},
   "outputs": [],
   "source": [
    "molecule = search[0]"
   ]
  },
  {
   "cell_type": "markdown",
   "metadata": {},
   "source": [
    "Let's now examine each of the atoms in the molecule to make sure that it looks like we'd expect:"
   ]
  },
  {
   "cell_type": "code",
   "execution_count": null,
   "metadata": {},
   "outputs": [],
   "source": [
    "for atom in molecule.getAtoms():\n",
    "    print(atom)"
   ]
  },
  {
   "cell_type": "markdown",
   "metadata": {},
   "source": [
    "The atoms that define the two dihedrals are:\n",
    "\n",
    "$\\phi$: C index=4, N index=6, CA index=8, C index=14\n",
    "\n",
    "$\\psi$: N index=6, CA index=8, C index=14, N index=16\n",
    "\n",
    "Let's store the indices:"
   ]
  },
  {
   "cell_type": "code",
   "execution_count": null,
   "metadata": {},
   "outputs": [],
   "source": [
    "phi_idx = [4,6,8,14]\n",
    "psi_idx = [6,8,14,16]"
   ]
  },
  {
   "cell_type": "markdown",
   "metadata": {},
   "source": [
    "We now need to construct two _collective variables_ that represent the dihedrals (torsions) above. These are the variables that will be sampled during our metadynamics simulation, allowing us to estimate the free energy of the system as a function of the dihedral angles."
   ]
  },
  {
   "cell_type": "code",
   "execution_count": null,
   "metadata": {},
   "outputs": [],
   "source": [
    "phi = BSS.Metadynamics.CollectiveVariable.Torsion(atoms=phi_idx)\n",
    "psi = BSS.Metadynamics.CollectiveVariable.Torsion(atoms=psi_idx)"
   ]
  },
  {
   "cell_type": "markdown",
   "metadata": {},
   "source": [
    "Note how we passed the _indices_ of the atoms involved in the torsion to the constructor. Since atoms are indexed relative to the molecule that they belong it is important that we get the _absolute_ atom index within the system. In this case we have a single molecule, so all is okay, but in general you should be careful. For example, atom index 2 in molecule 2 won't be atom index 2 in the system, i.e. you would have to shift the index by the number of atoms in molecule 1.\n",
    "\n",
    "Thankfully we provide simple tools to compute this index for you. For example, for atom `CA` in the molecule:"
   ]
  },
  {
   "cell_type": "code",
   "execution_count": null,
   "metadata": {},
   "outputs": [],
   "source": [
    "# Search for the atom by name and get the result.\n",
    "atom = molecule.search(\"atomname CA\")[0]\n",
    "\n",
    "# Compute the index of the atom in the system from which it came.\n",
    "system.getIndex(atom)"
   ]
  },
  {
   "cell_type": "markdown",
   "metadata": {},
   "source": [
    "(In this case we get the same index as the molecule since the alanine dipeptide is the first molecule in the system.)\n",
    "\n",
    "There are many other options that can be set for collective variables, such as setting the width of the Gaussian hill that is used to bias a variable, specifying lower and upper bounds for the value of the variable, and sampling on a pre-defined grid to help speed up simulations. Run `help(BSS.Metadynamics.CollectiveVariable.Torsion)` to see what's available.\n",
    "\n",
    "We now need a protocol to describe our metadynamics simulation. Let's go with the defaults, other than increasing the run time to 3 nanoseconds."
   ]
  },
  {
   "cell_type": "code",
   "execution_count": null,
   "metadata": {},
   "outputs": [],
   "source": [
    "protocol = BSS.Protocol.Metadynamics(collective_variable=[phi, psi], runtime=3*BSS.Units.Time.nanosecond)"
   ]
  },
  {
   "cell_type": "markdown",
   "metadata": {},
   "source": [
    "To see what's been set for us we can print the object:"
   ]
  },
  {
   "cell_type": "code",
   "execution_count": null,
   "metadata": {},
   "outputs": [],
   "source": [
    "print(protocol)"
   ]
  },
  {
   "cell_type": "markdown",
   "metadata": {},
   "source": [
    "Phew, that's a lot of stuff! To get more detail about how to configure the protocol run `help(BSS.Protocol.Metadynamics`).\n",
    "\n",
    "Finally, we need a process to actually run our metadynamics simulation. BioSimSpace will automatically configure this for you with the `BSS.Metadynamics.run` function. Note that the function expects a `System` and a `Protcol` as arguments, so we convert our alanine dipeptide molecule to a single-molecule system. "
   ]
  },
  {
   "cell_type": "code",
   "execution_count": null,
   "metadata": {},
   "outputs": [],
   "source": [
    "process = BSS.Metadynamics.run(molecule.toSystem(), protocol, gpu_support=True)"
   ]
  },
  {
   "cell_type": "markdown",
   "metadata": {},
   "source": [
    "All being well, we should now have a simulation process running in the background. Let's check that it's running:"
   ]
  },
  {
   "cell_type": "code",
   "execution_count": null,
   "metadata": {},
   "outputs": [],
   "source": [
    "process.isRunning()"
   ]
  },
  {
   "cell_type": "markdown",
   "metadata": {},
   "source": [
    "To see the PLUMED configuration file that was generated:"
   ]
  },
  {
   "cell_type": "code",
   "execution_count": null,
   "metadata": {},
   "outputs": [],
   "source": [
    "process.getPlumedConfig()"
   ]
  },
  {
   "cell_type": "markdown",
   "metadata": {},
   "source": [
    "We can interact with the process directly and monitor the values of the collective variables as a function of time. Re-run the cell with CTRL+Enter to see the values update.\n",
    "\n",
    "(Note that the `getCollectiveVariable` function takes the indices of the collective variables that we pass to the `Protocol` constructor, i.e. 0 = $\\phi$, 1 = $\\psi$.)"
   ]
  },
  {
   "cell_type": "code",
   "execution_count": null,
   "metadata": {},
   "outputs": [],
   "source": [
    "print(process.getTime(), process.getCollectiveVariable(0), process.getCollectiveVariable(1))"
   ]
  },
  {
   "cell_type": "markdown",
   "metadata": {},
   "source": [
    "We can also plot the time evolution of the collective variables. Once again, use CTRL+Enter to re-run the see and see the plots update."
   ]
  },
  {
   "cell_type": "code",
   "execution_count": null,
   "metadata": {},
   "outputs": [],
   "source": [
    "BSS.Notebook.plot(x=process.getTime(time_series=True), y=process.getCollectiveVariable(0, time_series=True))\n",
    "BSS.Notebook.plot(x=process.getTime(time_series=True), y=process.getCollectiveVariable(1, time_series=True))"
   ]
  },
  {
   "cell_type": "markdown",
   "metadata": {},
   "source": [
    "It's also possible to compute the real-time free energy estimate. The returned `free_nrg` object is a tuple, containing lists for the values of $\\phi$ and $\\psi$, and the corresponding free energy estimate. We can use this $x$, $y$, and $z$ data to generate a contour plot:"
   ]
  },
  {
   "cell_type": "code",
   "execution_count": null,
   "metadata": {},
   "outputs": [],
   "source": [
    "free_nrg = process.getFreeEnergy(kt=BSS.Units.Energy.kt)\n",
    "BSS.Notebook.plotContour(free_nrg[0], free_nrg[1], free_nrg[2])"
   ]
  },
  {
   "cell_type": "markdown",
   "metadata": {},
   "source": [
    "Re-run the cell with CTRL+Enter to see how the free energy surface changes as the metadynamics simulation explores more of phase space.\n",
    "\n",
    "If we are only interested in the free energy as a function of a single collective variable, then it's possible to perform a projection by integrating out the other variables. We can do this by passing the index of the collective variable of interest to the `getFreeEnergy` function, along with an appropriate temperature factor (in energy units) for integrating out the other variables. For example, to get the free energy as a function of $\\phi$ only, then visualise as a simple $x$-$y$ plot:"
   ]
  },
  {
   "cell_type": "code",
   "execution_count": null,
   "metadata": {},
   "outputs": [],
   "source": [
    "free_nrg_phi = process.getFreeEnergy(index=0, kt=BSS.Units.Energy.kt)\n",
    "BSS.Notebook.plot(x=free_nrg_phi[0], y=free_nrg_phi[1])"
   ]
  },
  {
   "cell_type": "markdown",
   "metadata": {},
   "source": [
    "Having successfully sampled the free energy landscape as a function of the $\\phi$ and $\\psi$ dihedral angles, we might next want to examine representative snapshots from the basins. To do this we can use the `sampleConfigurations` method of the `process` object. This takes a list of bounds for the values of the collective variables as an argument, along with the maximum number of snaphots that we would like. The method returns a list of randomly sampled molecular configurations that lie within the bounds, along with a list containing the corresponding collective variable values.\n",
    "\n",
    "Let's consider the basin just to the right in the middle of the free-energy contour plot above. This lies roughly at $0.5\\geq\\phi\\leq1.5$ and $-1.5\\geq\\psi\\leq0.5$."
   ]
  },
  {
   "cell_type": "code",
   "execution_count": null,
   "metadata": {},
   "outputs": [],
   "source": [
    "# Create bounds on the values of the collective variables. None can be used whenever a value is unconstrained.\n",
    "bounds = [(0.5*BSS.Units.Angle.radian, 1.5*BSS.Units.Angle.radian),\n",
    "          (-1.5*BSS.Units.Angle.radian, 0.5*BSS.Units.Angle.radian)]\n",
    "\n",
    "# Get twenty randomly sampled configurations along with the collective variable values. Note that the method\n",
    "# will return (None, None) if we haven't yet sampled the region of phase space defined by 'bounds'.\n",
    "configs, colvars = process.sampleConfigurations(bounds, 20)"
   ]
  },
  {
   "cell_type": "markdown",
   "metadata": {},
   "source": [
    "Let's examine the value of the collective variables for each sample to make sure they are in range:"
   ]
  },
  {
   "cell_type": "code",
   "execution_count": null,
   "metadata": {},
   "outputs": [],
   "source": [
    "colvars"
   ]
  },
  {
   "cell_type": "markdown",
   "metadata": {},
   "source": [
    "Let's now visualise the first configuration:"
   ]
  },
  {
   "cell_type": "code",
   "execution_count": null,
   "metadata": {},
   "outputs": [],
   "source": [
    "# Create a view object for the system of interest.\n",
    "view = BSS.Notebook.View(configs[0])\n",
    "\n",
    "# View the entire system.\n",
    "view.system()"
   ]
  }
 ],
 "metadata": {
  "kernelspec": {
   "display_name": "Python 3 (ipykernel)",
   "language": "python",
   "name": "python3"
  },
  "language_info": {
   "codemirror_mode": {
    "name": "ipython",
    "version": 3
   },
   "file_extension": ".py",
   "mimetype": "text/x-python",
   "name": "python",
   "nbconvert_exporter": "python",
   "pygments_lexer": "ipython3",
   "version": "3.7.12"
  }
 },
 "nbformat": 4,
 "nbformat_minor": 2
}
