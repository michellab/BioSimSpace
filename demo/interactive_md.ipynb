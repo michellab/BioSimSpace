{
 "cells": [
  {
   "cell_type": "markdown",
   "metadata": {},
   "source": [
    "# Interactive molecular dynamics\n",
    "\n",
    "BioSimSpace is a great tool for playing around with molecular simulations directly and interacting with them in real-time. In this notebook you'll learn how to use BioSimSpace to set up and run an equilibration protocol, then query the running process for information, plot graphs of the latest data, visualise molecular configurations, and analyse trajectory data.\n",
    "\n",
    "Before we get started, let's import BioSimSpace so that it's available inside of our notebook."
   ]
  },
  {
   "cell_type": "code",
   "execution_count": null,
   "metadata": {},
   "outputs": [],
   "source": [
    "import BioSimSpace as BSS"
   ]
  },
  {
   "cell_type": "markdown",
   "metadata": {},
   "source": [
    "## Creating a molecular system\n",
    "\n",
    "First of all we need to load a molecular system."
   ]
  },
  {
   "cell_type": "code",
   "execution_count": null,
   "metadata": {},
   "outputs": [],
   "source": [
    "system = BSS.IO.readMolecules([\"amber/ala/ala.crd\", \"amber/ala/ala.top\"])"
   ]
  },
  {
   "cell_type": "markdown",
   "metadata": {},
   "source": [
    "We have now created a molecular system. The system consists of an alanine dipeptide molecule in a box of water. To show the number of molecules in the system, run:"
   ]
  },
  {
   "cell_type": "code",
   "execution_count": null,
   "metadata": {},
   "outputs": [],
   "source": [
    "system.nMolecules()"
   ]
  },
  {
   "cell_type": "markdown",
   "metadata": {},
   "source": [
    "## Defining a simulation protocol\n",
    "\n",
    "BioSimSpace provides functionality for defining various simulation protocols. In this notebook we will construct a typical simulation workflow that uses a sequence of simple protocols, with the output of one forming the input of the next:\n",
    "\n",
    "1. _Minimisation:_ Energy minimisation the molecular system.\n",
    "2. _Equilibration:_ Equilibration of the system to a target temperature.\n",
    "3. _Production:_ Regular molecular dynamics, run at fixed temperature.\n",
    "4. _FreeEnergy:_ A protocol for an individual leg of a free-energy perturbation simulation.\n",
    "5. _Metadynamics:_ Metadynamics simulation to sample free energy as a function of collective variable(s). \n",
    "6. _Custom:_ A user defined protocol, e.g. a config file for a molecular dynamics package.\n",
    "\n",
    "When defining a protocol we are configuring the type of simulation that we wish to run, as well as any options for the particular simulation. For example, to create a default equilibration protocol:\n",
    "\n",
    "```python\n",
    "protocol = BSS.Protocol.Equilibration()\n",
    "```\n",
    "\n",
    "This defines a 0.2 nanosecond equilibration protocol at a temperature of 300 Kelvin. For convenience, let's reduce the runtime. We'll also perform a heating protocol and will restrain the position of atoms in the backbone."
   ]
  },
  {
   "cell_type": "code",
   "execution_count": null,
   "metadata": {},
   "outputs": [],
   "source": [
    "# Initialise a short equilibration protocol.\n",
    "protocol = BSS.Protocol.Equilibration(\n",
    "    runtime=0.05 * BSS.Units.Time.nanosecond,\n",
    "    temperature_start=0 * BSS.Units.Temperature.kelvin,\n",
    "    temperature_end=300 * BSS.Units.Temperature.kelvin,\n",
    "    restraint=\"backbone\",\n",
    ")"
   ]
  },
  {
   "cell_type": "markdown",
   "metadata": {},
   "source": [
    "## Initialising a process\n",
    "\n",
    "We now have everything that is needed to create a process object. To do so, run:"
   ]
  },
  {
   "cell_type": "code",
   "execution_count": null,
   "metadata": {},
   "outputs": [],
   "source": [
    "process = BSS.MD.run(system, protocol)"
   ]
  },
  {
   "cell_type": "markdown",
   "metadata": {},
   "source": [
    "On creation, BioSimSpace searches your `PATH` for an appropriate executable for running the process. The executable that is chosen may be dependent on the available hardware and type of protocol. If a suitable executable was found, BioSimSpace will automatically set up everything for you, start the simulation automatically, and return a handle to the running process.\n",
    "\n",
    "To see if the process is running:"
   ]
  },
  {
   "cell_type": "code",
   "execution_count": null,
   "metadata": {},
   "outputs": [],
   "source": [
    "process.isRunning()"
   ]
  },
  {
   "cell_type": "markdown",
   "metadata": {},
   "source": [
    "To see how many minutes the process has been running for:"
   ]
  },
  {
   "cell_type": "code",
   "execution_count": null,
   "metadata": {},
   "outputs": [],
   "source": [
    "process.runTime()"
   ]
  },
  {
   "cell_type": "markdown",
   "metadata": {},
   "source": [
    "We can also query the total energy of the molecular system (in kcal/mol):"
   ]
  },
  {
   "cell_type": "code",
   "execution_count": null,
   "metadata": {},
   "outputs": [],
   "source": [
    "process.getTotalEnergy()"
   ]
  },
  {
   "cell_type": "markdown",
   "metadata": {},
   "source": [
    "We can monitor the time, temperature, and energy as the process runs. If you run this multiple times using \"CTRL+Return\" you'll see the temperature slowly increasing."
   ]
  },
  {
   "cell_type": "code",
   "execution_count": null,
   "metadata": {},
   "outputs": [],
   "source": [
    "print(process.getTime(), process.getTemperature(), process.getTotalEnergy())"
   ]
  },
  {
   "cell_type": "markdown",
   "metadata": {},
   "source": [
    "It's possible to query many other thermodynamic records. What's available depends on type of protocol and the program that is used to run the protocol."
   ]
  },
  {
   "cell_type": "markdown",
   "metadata": {},
   "source": [
    "## Plotting time series data\n",
    "\n",
    "As well as querying the most recent records we can also get a time series of results by passing the `time_series` keyword argument to any of the data record getter methods, e.g.\n",
    "\n",
    "```python\n",
    "# Get a time series of pressure records.\n",
    "pressure = process.getPressure(time_series=True)\n",
    "```\n",
    "\n",
    "BioSimSpace comes with several useful tools that are available when working inside of a Jupyter notebook. One of this is the `plot` function, that allows us to create simple x/y plot of time series data.\n",
    "\n",
    "Let's grab the same record data as above and use it to make some graphs of the data."
   ]
  },
  {
   "cell_type": "code",
   "execution_count": null,
   "metadata": {},
   "outputs": [],
   "source": [
    "# Generate a plot of time vs temperature.\n",
    "plot1 = BSS.Notebook.plot(\n",
    "    process.getTime(time_series=True), process.getTemperature(time_series=True)\n",
    ")\n",
    "\n",
    "# Generate a plot of time vs energy.\n",
    "plot2 = BSS.Notebook.plot(\n",
    "    process.getTime(time_series=True), process.getTotalEnergy(time_series=True)\n",
    ")"
   ]
  },
  {
   "cell_type": "markdown",
   "metadata": {},
   "source": [
    "Re-run the cell using \"CTRL+Return\" to see the graphs update as the simulation progresses.\n",
    "\n",
    "Being able to query a process in real time is an incredibly useful tool. This could enable us to check for convergence, or spot errors in the simulation. If you ever need to kill a running process (perhaps it was configured incorrectly), run:\n",
    "\n",
    "```python\n",
    "process.kill()\n",
    "```"
   ]
  },
  {
   "cell_type": "markdown",
   "metadata": {},
   "source": [
    "## Visualising the molecular system\n",
    "\n",
    "Another useful tool that is available when working inside of a notebook. One of these is the `View` class that can be used to visualise the molecular system while a process is running. To create a `View` object we must attach it to a process (or a molecular system), e.g.:"
   ]
  },
  {
   "cell_type": "code",
   "execution_count": null,
   "metadata": {},
   "outputs": [],
   "source": [
    "view = BSS.Notebook.View(process)"
   ]
  },
  {
   "cell_type": "markdown",
   "metadata": {},
   "source": [
    "We can now visualise the system:"
   ]
  },
  {
   "cell_type": "code",
   "execution_count": null,
   "metadata": {},
   "outputs": [],
   "source": [
    "view.system()"
   ]
  },
  {
   "cell_type": "markdown",
   "metadata": {},
   "source": [
    "## Reading and analysis trajectory data\n",
    "\n",
    "BioSimSpace comes with a set of tools for reading and analysis trajectory files. Files can be loaded directly, or if supported, can be read from a running process.\n",
    "\n",
    "For example, to get the trajectory from the process, run:"
   ]
  },
  {
   "cell_type": "code",
   "execution_count": null,
   "metadata": {},
   "outputs": [],
   "source": [
    "traj = process.getTrajectory()"
   ]
  },
  {
   "cell_type": "markdown",
   "metadata": {},
   "source": [
    "(If you get an error, then the trajectory file may be in the process of being written. Simply try again.)\n",
    "\n",
    "To get the current number of frames:"
   ]
  },
  {
   "cell_type": "code",
   "execution_count": null,
   "metadata": {},
   "outputs": [],
   "source": [
    "traj.nFrames()"
   ]
  },
  {
   "cell_type": "markdown",
   "metadata": {},
   "source": [
    "To get the frames as a list of system objects:"
   ]
  },
  {
   "cell_type": "code",
   "execution_count": null,
   "metadata": {},
   "outputs": [],
   "source": [
    "frames = traj.getFrames()"
   ]
  },
  {
   "cell_type": "markdown",
   "metadata": {},
   "source": [
    "The `Trajectory` class provides wrappers around some basic MDTraj analysis tools, allowing the user to compute quantities such as the root mean squared displacement (RMSD).\n",
    "\n",
    "Let's measure the RMSD of the alanine-dipeptide molecule with a reference to its configuration in the first trajectory frame. To extract the alanine-dipeptide, we search the system for a residue named `ALA`. We'll also plot the RMSD for each frame of the trajectory."
   ]
  },
  {
   "cell_type": "code",
   "execution_count": null,
   "metadata": {},
   "outputs": [],
   "source": [
    "# Search the system for a residue named ALA. Since there is a single match, we take the first result.\n",
    "residue = system.search(\"resname ALA\")[0]\n",
    "\n",
    "# Get the indices of the atoms in the molecule, relative to the original system.\n",
    "indices = [system.getIndex(x) for x in residue.getAtoms()]\n",
    "\n",
    "# Compute the RMSD for each frame and plot the result.\n",
    "BSS.Notebook.plot(\n",
    "    y=process.getTrajectory().rmsd(frame=0, atoms=indices),\n",
    "    xlabel=\"Frame\",\n",
    "    ylabel=\"RMSD\",\n",
    ")"
   ]
  }
 ],
 "metadata": {
  "kernelspec": {
   "display_name": "Python 3",
   "language": "python",
   "name": "python3"
  },
  "language_info": {
   "codemirror_mode": {
    "name": "ipython",
    "version": 3
   },
   "file_extension": ".py",
   "mimetype": "text/x-python",
   "name": "python",
   "nbconvert_exporter": "python",
   "pygments_lexer": "ipython3",
   "version": "3.7.3"
  }
 },
 "nbformat": 4,
 "nbformat_minor": 2
}
