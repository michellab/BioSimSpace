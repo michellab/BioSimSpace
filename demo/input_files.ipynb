{
 "cells": [
  {
   "cell_type": "markdown",
   "metadata": {},
   "source": [
    "Author: Lester Hedges<br>\n",
    "Email:&nbsp;&nbsp; lester.hedges@bristol.ac.uk\n",
    "\n",
    "# Input files\n",
    "\n",
    "In this notebook you'll learn how to use BioSimSpace to generate input files for different molecular dynamics engines.\n",
    "\n",
    "First we'll need to import BioSimSpace:"
   ]
  },
  {
   "cell_type": "code",
   "execution_count": null,
   "metadata": {},
   "outputs": [],
   "source": [
    "import BioSimSpace as BSS"
   ]
  },
  {
   "cell_type": "markdown",
   "metadata": {},
   "source": [
    "We begin by creating a `Node` object. This is the core of our molecular workflow component. It defines what it does, what input is needed, and the output that is produced."
   ]
  },
  {
   "cell_type": "code",
   "execution_count": null,
   "metadata": {},
   "outputs": [],
   "source": [
    "node = BSS.Gateway.Node(\n",
    "    \"A node to create input files for molecular dynamics simulation.\"\n",
    ")"
   ]
  },
  {
   "cell_type": "markdown",
   "metadata": {},
   "source": [
    "We'll now set the author and license:"
   ]
  },
  {
   "cell_type": "code",
   "execution_count": null,
   "metadata": {},
   "outputs": [],
   "source": [
    "node.addAuthor(\n",
    "    name=\"Lester Hedges\",\n",
    "    email=\"lester.hedges@bristol.ac.uk\",\n",
    "    affiliation=\"University of Bristol\",\n",
    ")\n",
    "node.setLicense(\"GPLv3\")"
   ]
  },
  {
   "cell_type": "markdown",
   "metadata": {},
   "source": [
    "Nodes require inputs. To specify inputs we use the `Gateway` module, which is used as a bridge between BioSimSpace and the outside world. This will allow us to document the inputs, define their type, and specify any constraints on their allowed values. Here we will need a set of files that define the molecular system, a string that will specify the type of simulation protocol that we'd like to perform, and another string to specify the molecular dynamics package. (Note that the strings take specific values, which can be automatically determined by querying BioSimSpace.)"
   ]
  },
  {
   "cell_type": "code",
   "execution_count": null,
   "metadata": {},
   "outputs": [],
   "source": [
    "node.addInput(\"files\", BSS.Gateway.FileSet(help=\"A set of molecular input files.\"))\n",
    "node.addInput(\n",
    "    \"protocol\",\n",
    "    BSS.Gateway.String(\n",
    "        help=\"The molecular simulation protocol.\",\n",
    "        allowed=BSS.Protocol.protocols(),\n",
    "        default=\"Minimisation\",\n",
    "    ),\n",
    ")\n",
    "node.addInput(\n",
    "    \"package\",\n",
    "    BSS.Gateway.String(\n",
    "        help=\"The molecular dynamics package.\",\n",
    "        allowed=BSS.Process.engines(),\n",
    "        default=\"Amber\",\n",
    "    ),\n",
    ")"
   ]
  },
  {
   "cell_type": "markdown",
   "metadata": {},
   "source": [
    "Note that we don't allow the user to specify any further details of the protocol. In this case we use a _best practice_ protocol.\n",
    "\n",
    "We now need to define the output of the node. In this case we will return the set of input files for the chosen molecular dynamics package."
   ]
  },
  {
   "cell_type": "code",
   "execution_count": null,
   "metadata": {},
   "outputs": [],
   "source": [
    "node.addOutput(\n",
    "    \"input_files\",\n",
    "    BSS.Gateway.FileSet(\n",
    "        help=\"A zip file containing the molecular dynamics input files.\"\n",
    "    ),\n",
    ")"
   ]
  },
  {
   "cell_type": "markdown",
   "metadata": {},
   "source": [
    "When working interactively within a Jupyter notebook we need a way to allow users to set the input requirements. The `node.showControls` method will display a graphical user interface (GUI), from which inputs can be set.\n",
    "\n",
    "Note that the GUI requires active user input. All input requirements that don't have a default value _must_ be set before the node can proceed. If you try to query the node for one of the user values then an error will be raised. Use the dropdown button to choose options for the protocol and molecular dynamics package.\n",
    "\n",
    "When working interactively you will typically be running on a remote server where you won't have access to the local filesystem. In this case you'll need to upload files for any of the `File` or `FileSet` input requirements. The GUI below will provide buttons that allow you to browse your own filesystem and select files. Since Jupyter has a limit of 5MB for file transfers, we provide support for compressed formats, such as `.zip` or `.tar.gz`. (A single archive can contain a set of files, allowing you to set a single value for a `FileSet` requirement.) We've provided some example input files that can be used in the training notebooks, which are available to download from the links below. These can then be re-uploaded using the GUI.\n",
    "\n",
    "AMBER: [ala.crd](https://raw.githubusercontent.com/michellab/BioSimSpace/devel/demo/amber/ala/ala.crd), [ala.top](https://raw.githubusercontent.com/michellab/BioSimSpace/devel/demo/amber/ala/ala.top)\n",
    "\n",
    "GROMACS: [kigaki.gro](https://raw.githubusercontent.com/michellab/BioSimSpace/devel/demo/gromacs/kigaki/kigaki.gro), [kigaki.top](https://raw.githubusercontent.com/michellab/BioSimSpace/devel/demo/gromacs/kigaki/kigaki.top)\n",
    "\n",
    "NAMD: [alanin.pdb](https://raw.githubusercontent.com/michellab/BioSimSpace/devel/demo/namd/alanin/alanin.pdb), [alanin.psf](https://raw.githubusercontent.com/michellab/BioSimSpace/devel/demo/namd/alanin/alanin.psf), [alanin.params](https://raw.githubusercontent.com/michellab/BioSimSpace/devel/demo/namd/alanin/alanin.params)\n",
    "\n",
    "When uploading files the name of the current file(s) will replace the `Upload` button. If you need to change the file, simply click on the button again and choose a new file."
   ]
  },
  {
   "cell_type": "code",
   "execution_count": null,
   "metadata": {},
   "outputs": [],
   "source": [
    "node.showControls()"
   ]
  },
  {
   "cell_type": "markdown",
   "metadata": {},
   "source": [
    "Once all requirements are set then we can access the values using the `node.getInput` method. The first time this is called the `node` will automatically validate all of the input and report the user if any errors were found.\n",
    "\n",
    "We'll now create a molecular system using the input files uploaded by the user. Note that we don't specify the format of the files, since this is automatically determined by BioSimSpace. (BioSimSpace has support for a wide range of formats and can convert between certain formats too.)"
   ]
  },
  {
   "cell_type": "code",
   "execution_count": null,
   "metadata": {},
   "outputs": [],
   "source": [
    "system = BSS.IO.readMolecules(node.getInput(\"files\"))"
   ]
  },
  {
   "cell_type": "markdown",
   "metadata": {},
   "source": [
    "Next we setup a molecular dynamics process using the molecular system and the chosen simulation protocol. Note that an error will be thrown if the protocol isn't currently supported by the chosen molecular dynamics package."
   ]
  },
  {
   "cell_type": "code",
   "execution_count": null,
   "metadata": {},
   "outputs": [],
   "source": [
    "process = BSS.Process.createProcess(\n",
    "    system,\n",
    "    BSS.Protocol.createProtocol(node.getInput(\"protocol\")),\n",
    "    node.getInput(\"package\"),\n",
    ")"
   ]
  },
  {
   "cell_type": "markdown",
   "metadata": {},
   "source": [
    "Now we extract a zip file containing the autogenerated input files from the process object and assign this to the output variable of the node."
   ]
  },
  {
   "cell_type": "code",
   "execution_count": null,
   "metadata": {},
   "outputs": [],
   "source": [
    "node.setOutput(\"input_files\", process.getInput())"
   ]
  },
  {
   "cell_type": "markdown",
   "metadata": {},
   "source": [
    "Finally, we validate that the node completed successfully. This will check that all output requirements are satisfied and that no errors were raised by the user. Any file outputs will be available for the user to download as a compressed archive.\n",
    "\n",
    "Note that the validation will fail until the cell above finishes running."
   ]
  },
  {
   "cell_type": "code",
   "execution_count": null,
   "metadata": {},
   "outputs": [],
   "source": [
    "node.validate()"
   ]
  },
  {
   "cell_type": "markdown",
   "metadata": {},
   "source": [
    "Once we are satisfied with our node we can choose to download it as a regular Python script that can be run from the command-line.\n",
    "\n",
    "In JupyterHub, click on: `File/Download As/Python`\\\n",
    "In JupyterLab, click on: `File/Export Notebook As/Export Notebook to Executable Script`"
   ]
  }
 ],
 "metadata": {
  "kernelspec": {
   "display_name": "Python 3",
   "language": "python",
   "name": "python3"
  },
  "language_info": {
   "codemirror_mode": {
    "name": "ipython",
    "version": 3
   },
   "file_extension": ".py",
   "mimetype": "text/x-python",
   "name": "python",
   "nbconvert_exporter": "python",
   "pygments_lexer": "ipython3",
   "version": "3.7.7"
  }
 },
 "nbformat": 4,
 "nbformat_minor": 4
}
