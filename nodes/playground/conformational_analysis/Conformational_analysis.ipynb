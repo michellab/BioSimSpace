{
 "cells": [
  {
   "cell_type": "markdown",
   "metadata": {},
   "source": [
    "## Conformational analysis of a small molecule\n",
    "Conformational analysis node modeled based on a workflow from Inaki, based on their protocols and input files"
   ]
  },
  {
   "cell_type": "code",
   "execution_count": 1,
   "metadata": {},
   "outputs": [],
   "source": [
    "import BioSimSpace as BSS"
   ]
  },
  {
   "cell_type": "code",
   "execution_count": 2,
   "metadata": {},
   "outputs": [],
   "source": [
    "node = BSS.Gateway.Node(\n",
    "    \"A node to parameterise a small molecule, run MD and do a conformational analysis.\"\n",
    ")"
   ]
  },
  {
   "cell_type": "code",
   "execution_count": 3,
   "metadata": {},
   "outputs": [],
   "source": [
    "node.addAuthor(\n",
    "    name=\"Antonia Mey\",\n",
    "    email=\"antonia.mey@ed.ac.uk\",\n",
    "    affiliation=\"University of Edinburgh\",\n",
    ")\n",
    "node.setLicense(\"GPLv3\")"
   ]
  },
  {
   "cell_type": "code",
   "execution_count": 4,
   "metadata": {},
   "outputs": [],
   "source": [
    "# Below all input controls are defined, for setting up the system and running each step"
   ]
  },
  {
   "cell_type": "code",
   "execution_count": 5,
   "metadata": {},
   "outputs": [],
   "source": [
    "node.addInput(\"file\", BSS.Gateway.File(help=\"A molecular input file, e.g. a PDB file.\"))\n",
    "\n",
    "node.addInput(\n",
    "    \"forcefield\",\n",
    "    BSS.Gateway.String(\n",
    "        help=\"The name of the force field to use for parameterisation.\",\n",
    "        allowed=BSS.Parameters.forceFields(),\n",
    "        default=\"gaff\",\n",
    "    ),\n",
    ")\n",
    "\n",
    "node.addInput(\n",
    "    \"water\",\n",
    "    BSS.Gateway.String(\n",
    "        help=\"The name of the water model to use for solvation.\",\n",
    "        allowed=BSS.Solvent.waterModels(),\n",
    "        default=\"tip3p\",\n",
    "    ),\n",
    ")\n",
    "\n",
    "node.addInput(\n",
    "    \"box_size\",\n",
    "    BSS.Gateway.Length(\n",
    "        help=\"The base length of the cubic simulation box.\", unit=\"nanometer\"\n",
    "    ),\n",
    ")\n",
    "\n",
    "node.addInput(\n",
    "    \"ion_conc\",\n",
    "    BSS.Gateway.Float(\n",
    "        help=\"The ionic concentration in mol/litre.\", minimum=0, maximum=1, default=0\n",
    "    ),\n",
    ")\n",
    "node.addInput(\"minimise\", BSS.Gateway.String(help=\"Config file for minimisation\"))\n",
    "node.addInput(\"step2\", BSS.Gateway.String(help=\"Config file for step2 equilibration\"))\n",
    "node.addInput(\"step3\", BSS.Gateway.String(help=\"Config file for step3 equilibration\"))\n",
    "node.addInput(\"step4\", BSS.Gateway.String(help=\"Config file for step4 equilibration\"))\n",
    "node.addInput(\"step5\", BSS.Gateway.String(help=\"Config file for step5 equilibration\"))\n",
    "node.addInput(\"production\", BSS.Gateway.String(help=\"Config file for production run\"))\n",
    "node.addInput(\"cpptraj\", BSS.Gateway.String(help=\"Config file for running cpptraj\"))\n",
    "node.addInput(\"cpptraj_exec\", BSS.Gateway.String(help=\"Path to executable of CCPtraj\"))\n",
    "node.addInput(\"exe\", BSS.Gateway.String(help=\"Path to MD executable\"))"
   ]
  },
  {
   "cell_type": "markdown",
   "metadata": {},
   "source": [
    "## Add optional output"
   ]
  },
  {
   "cell_type": "code",
   "execution_count": 6,
   "metadata": {},
   "outputs": [],
   "source": [
    "node.addOutput(\n",
    "    \"system\",\n",
    "    BSS.Gateway.FileSet(\n",
    "        help=\"The parameterised and solvated molecular system in AMBER format.\"\n",
    "    ),\n",
    ")"
   ]
  },
  {
   "cell_type": "code",
   "execution_count": 7,
   "metadata": {},
   "outputs": [],
   "source": [
    "node.addOutput(\n",
    "    \"equ5_out\", BSS.Gateway.File(help=\"The output for equilibration 5 output.\")\n",
    ")"
   ]
  },
  {
   "cell_type": "code",
   "execution_count": 8,
   "metadata": {},
   "outputs": [
    {
     "data": {
      "application/vnd.jupyter.widget-view+json": {
       "model_id": "2b263a99a2ac437da16b226e7d6aadef",
       "version_major": 2,
       "version_minor": 0
      },
      "text/plain": [
       "Box(children=(Box(children=(Box(children=(Label(value='file: A molecular input file, e.g. a PDB file.'), FileU…"
      ]
     },
     "metadata": {},
     "output_type": "display_data"
    },
    {
     "name": "stdout",
     "output_type": "stream",
     "text": [
      "Uploaded '2-cyclopentanylindole.mol2' (2.97 kB)\n"
     ]
    }
   ],
   "source": [
    "node.showControls()"
   ]
  },
  {
   "cell_type": "markdown",
   "metadata": {},
   "source": [
    "## Setting the system up\n",
    "The following reads and parametrises a small molecule and will save it the specified output. "
   ]
  },
  {
   "cell_type": "code",
   "execution_count": 9,
   "metadata": {},
   "outputs": [],
   "source": [
    "system = BSS.IO.readMolecules(node.getInput(\"file\"))\n",
    "molecule = system[0]\n",
    "molecule = BSS.Parameters.parameterise(\n",
    "    molecule, node.getInput(\"forcefield\")\n",
    ").getMolecule()\n",
    "system = BSS.Solvent.solvate(\n",
    "    node.getInput(\"water\"),\n",
    "    molecule=molecule,\n",
    "    box=3 * [node.getInput(\"box_size\")],\n",
    "    ion_conc=node.getInput(\"ion_conc\"),\n",
    ")\n",
    "\n",
    "node.setOutput(\n",
    "    \"system\", BSS.IO.saveMolecules(\"system\", system, [\"prm7\", \"rst7\", \"PDB\"])\n",
    ")"
   ]
  },
  {
   "cell_type": "markdown",
   "metadata": {},
   "source": [
    "## Setting some information on current working directories and executables to use"
   ]
  },
  {
   "cell_type": "code",
   "execution_count": 26,
   "metadata": {},
   "outputs": [],
   "source": [
    "import os\n",
    "\n",
    "cwd = os.getcwd()\n",
    "exe = node.getInput(\"exe\")"
   ]
  },
  {
   "cell_type": "markdown",
   "metadata": {},
   "source": [
    "## Step 1-5 of the equilibrations"
   ]
  },
  {
   "cell_type": "markdown",
   "metadata": {},
   "source": [
    "### Minimisation"
   ]
  },
  {
   "cell_type": "code",
   "execution_count": 16,
   "metadata": {},
   "outputs": [],
   "source": [
    "w_dir = os.path.join(cwd, \"minimise\")"
   ]
  },
  {
   "cell_type": "code",
   "execution_count": 22,
   "metadata": {},
   "outputs": [],
   "source": [
    "protocol = BSS.Protocol.Minimisation()\n",
    "process = BSS.Process.Amber(system, protocol, name=\"minimise\", work_dir=w_dir, exe=exe)\n",
    "process.setConfig(node.getInput(\"minimise\"))\n",
    "process.setArg(\"-ref\", \"minimise.rst7\")"
   ]
  },
  {
   "cell_type": "code",
   "execution_count": 23,
   "metadata": {},
   "outputs": [
    {
     "data": {
      "text/plain": [
       "BioSimSpace.Process.Amber(<BioSimSpace.System: nMolecules=4047>, BioSimSpace.Protocol.Minimisation(steps=10000), exe='/home/ppxasjsm/Software/amber18/bin/sander', name='minimise', work_dir='/home/ppxasjsm/Projects/People/Inaki/BSSPlayGround/Conformational_analysis/minimise', seed=None)"
      ]
     },
     "execution_count": 23,
     "metadata": {},
     "output_type": "execute_result"
    }
   ],
   "source": [
    "prc_info = process.start()"
   ]
  },
  {
   "cell_type": "code",
   "execution_count": 29,
   "metadata": {},
   "outputs": [],
   "source": [
    "minimised = process.getSystem()"
   ]
  },
  {
   "cell_type": "markdown",
   "metadata": {},
   "source": [
    "### Minimisation 2"
   ]
  },
  {
   "cell_type": "code",
   "execution_count": 33,
   "metadata": {},
   "outputs": [],
   "source": [
    "w_dir = os.path.join(cwd, \"eq2\")"
   ]
  },
  {
   "cell_type": "code",
   "execution_count": 34,
   "metadata": {},
   "outputs": [],
   "source": [
    "protocol = BSS.Protocol.Minimisation()\n",
    "process = BSS.Process.Amber(minimised, protocol, name=\"equ2\", work_dir=w_dir, exe=exe)\n",
    "process.setConfig(node.getInput(\"step2\"))"
   ]
  },
  {
   "cell_type": "code",
   "execution_count": 35,
   "metadata": {},
   "outputs": [],
   "source": [
    "prc_info = process.start()"
   ]
  },
  {
   "cell_type": "code",
   "execution_count": 38,
   "metadata": {},
   "outputs": [],
   "source": [
    "equ2 = process.getSystem()"
   ]
  },
  {
   "cell_type": "markdown",
   "metadata": {},
   "source": [
    "### Equilibration 3"
   ]
  },
  {
   "cell_type": "code",
   "execution_count": 39,
   "metadata": {},
   "outputs": [],
   "source": [
    "w_dir = os.path.join(cwd, \"eq3\")"
   ]
  },
  {
   "cell_type": "code",
   "execution_count": 40,
   "metadata": {},
   "outputs": [],
   "source": [
    "protocol = BSS.Protocol.Equilibration()\n",
    "process = BSS.Process.Amber(equ2, protocol, name=\"equ3\", work_dir=w_dir, exe=exe)\n",
    "process.setConfig(node.getInput(\"step3\"))"
   ]
  },
  {
   "cell_type": "code",
   "execution_count": 41,
   "metadata": {},
   "outputs": [],
   "source": [
    "process.setArg(\"-ref\", \"equ3.rst7\")"
   ]
  },
  {
   "cell_type": "code",
   "execution_count": 42,
   "metadata": {},
   "outputs": [],
   "source": [
    "prc_info = process.start()"
   ]
  },
  {
   "cell_type": "code",
   "execution_count": 44,
   "metadata": {},
   "outputs": [],
   "source": [
    "equ3 = process.getSystem()"
   ]
  },
  {
   "cell_type": "markdown",
   "metadata": {},
   "source": [
    "## Equilibration 4"
   ]
  },
  {
   "cell_type": "code",
   "execution_count": 46,
   "metadata": {},
   "outputs": [],
   "source": [
    "w_dir = os.path.join(cwd, \"eq4\")"
   ]
  },
  {
   "cell_type": "code",
   "execution_count": 47,
   "metadata": {},
   "outputs": [],
   "source": [
    "protocol = BSS.Protocol.Equilibration()\n",
    "process = BSS.Process.Amber(equ3, protocol, name=\"equ4\", work_dir=w_dir, exe=exe)\n",
    "process.setConfig(node.getInput(\"step4\"))"
   ]
  },
  {
   "cell_type": "code",
   "execution_count": 48,
   "metadata": {},
   "outputs": [],
   "source": [
    "process.setArg(\"-ref\", \"equ4.rst7\")"
   ]
  },
  {
   "cell_type": "code",
   "execution_count": 49,
   "metadata": {},
   "outputs": [],
   "source": [
    "prc_info = process.start()"
   ]
  },
  {
   "cell_type": "code",
   "execution_count": 50,
   "metadata": {},
   "outputs": [],
   "source": [
    "equ4 = process.getSystem()"
   ]
  },
  {
   "cell_type": "markdown",
   "metadata": {},
   "source": [
    "## Equilibration 5"
   ]
  },
  {
   "cell_type": "code",
   "execution_count": 52,
   "metadata": {},
   "outputs": [],
   "source": [
    "w_dir = os.path.join(cwd, \"eq5\")"
   ]
  },
  {
   "cell_type": "code",
   "execution_count": 53,
   "metadata": {},
   "outputs": [],
   "source": [
    "protocol = BSS.Protocol.Equilibration()\n",
    "process = BSS.Process.Amber(equ3, protocol, name=\"equ5\", work_dir=w_dir, exe=exe)\n",
    "process.setConfig(node.getInput(\"step5\"))"
   ]
  },
  {
   "cell_type": "code",
   "execution_count": 54,
   "metadata": {},
   "outputs": [],
   "source": [
    "prc_info = process.start()"
   ]
  },
  {
   "cell_type": "code",
   "execution_count": 60,
   "metadata": {},
   "outputs": [],
   "source": [
    "equ5 = process.getSystem()"
   ]
  },
  {
   "cell_type": "code",
   "execution_count": 64,
   "metadata": {},
   "outputs": [
    {
     "data": {
      "text/plain": [
       "False"
      ]
     },
     "execution_count": 64,
     "metadata": {},
     "output_type": "execute_result"
    }
   ],
   "source": [
    "process.isRunning()"
   ]
  },
  {
   "cell_type": "markdown",
   "metadata": {},
   "source": [
    "## Production\n",
    "Running the production MD simulation. This may take a while. "
   ]
  },
  {
   "cell_type": "code",
   "execution_count": 65,
   "metadata": {},
   "outputs": [],
   "source": [
    "w_dir = os.path.join(cwd, \"prod\")"
   ]
  },
  {
   "cell_type": "code",
   "execution_count": 66,
   "metadata": {},
   "outputs": [],
   "source": [
    "protocol = BSS.Protocol.Production()\n",
    "process = BSS.Process.Amber(equ5, protocol, name=\"prod\", work_dir=w_dir, exe=exe)\n",
    "process.setConfig(node.getInput(\"production\"))"
   ]
  },
  {
   "cell_type": "code",
   "execution_count": 68,
   "metadata": {},
   "outputs": [],
   "source": [
    "prc_info = process.start()"
   ]
  },
  {
   "cell_type": "code",
   "execution_count": 74,
   "metadata": {},
   "outputs": [
    {
     "data": {
      "text/plain": [
       "True"
      ]
     },
     "execution_count": 74,
     "metadata": {},
     "output_type": "execute_result"
    }
   ],
   "source": [
    "process.isRunning()"
   ]
  },
  {
   "cell_type": "code",
   "execution_count": null,
   "metadata": {},
   "outputs": [],
   "source": [
    "traj = process.getTrajectory()"
   ]
  },
  {
   "cell_type": "markdown",
   "metadata": {},
   "source": [
    "## Conformational analysis using pytraj"
   ]
  },
  {
   "cell_type": "code",
   "execution_count": 80,
   "metadata": {},
   "outputs": [],
   "source": [
    "# Executing cpptraj externally. This is less than ideal, but will have to do for now\n",
    "import subprocess"
   ]
  },
  {
   "cell_type": "code",
   "execution_count": 77,
   "metadata": {},
   "outputs": [],
   "source": [
    "cpptraj_exec = \"/home/ppxasjsm/Software/amber18/bin/cpptraj\""
   ]
  },
  {
   "cell_type": "code",
   "execution_count": 85,
   "metadata": {},
   "outputs": [
    {
     "data": {
      "text/plain": [
       "CompletedProcess(args='/home/ppxasjsm/Software/amber18/bin/cpptraj -i /home/ppxasjsm/Projects/People/Inaki/BSSPlayGround/Conformational_analysis/cpptraj.in', returncode=1, stdout=b\"\\nCPPTRAJ: Trajectory Analysis. V18.01\\n    ___  ___  ___  ___\\n     | \\\\/ | \\\\/ | \\\\/ | \\n    _|_/\\\\_|_/\\\\_|_/\\\\_|_\\n\\n| Date/time: 02/27/19 09:50:48\\n| Available memory: 5.000 GB\\n\\nINPUT: Reading input from '/home/ppxasjsm/Projects/People/Inaki/BSSPlayGround/Conformational_analysis/cpptraj.in'\\n  [parm prod.prm7]\\nTIME: Total execution time: 0.0003 seconds.\\n\\n\")"
      ]
     },
     "execution_count": 85,
     "metadata": {},
     "output_type": "execute_result"
    }
   ],
   "source": [
    "command = node.getInput(\"cpptraj_exec\") + \" -i \" + node.getInput(\"cpptraj\")\n",
    "# command =cpptraj_exec+ ' -i '+node.getInput(\"ccptraj\")\n",
    "subprocess.run(command, shell=True, stdout=subprocess.PIPE)"
   ]
  },
  {
   "cell_type": "code",
   "execution_count": null,
   "metadata": {},
   "outputs": [],
   "source": []
  }
 ],
 "metadata": {
  "kernelspec": {
   "display_name": "Python 3",
   "language": "python",
   "name": "python3"
  },
  "language_info": {
   "codemirror_mode": {
    "name": "ipython",
    "version": 3
   },
   "file_extension": ".py",
   "mimetype": "text/x-python",
   "name": "python",
   "nbconvert_exporter": "python",
   "pygments_lexer": "ipython3",
   "version": "3.7.3"
  }
 },
 "nbformat": 4,
 "nbformat_minor": 2
}
