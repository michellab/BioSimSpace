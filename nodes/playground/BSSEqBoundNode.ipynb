{
 "cells": [
  {
   "cell_type": "code",
   "execution_count": null,
   "id": "41ee84da",
   "metadata": {},
   "outputs": [],
   "source": [
    "import BioSimSpace as BSS\n",
    "import sys"
   ]
  },
  {
   "cell_type": "code",
   "execution_count": null,
   "id": "ae92e2d7",
   "metadata": {},
   "outputs": [],
   "source": [
    "# Helper function\n",
    "def runProcess(system, protocol, engine=\"AMBER\", pmemd=False):\n",
    "    \"\"\"\n",
    "    Given a solvated system (BSS object) and BSS protocol, run a process workflow with either\n",
    "    Sander (CPU) or pmemd.cuda (GPU). NPT is typically done with GPU to save computing time.\n",
    "    Returns the processed system.\n",
    "    \"\"\"\n",
    "\n",
    "    # Create the process passing a working directory.\n",
    "    if engine == \"AMBER\":\n",
    "        if not pmemd:\n",
    "            process = BSS.Process.Amber(system, protocol)\n",
    "        elif pmemd:\n",
    "            process = BSS.Process.Amber(system, protocol, exe=pmemd_path)\n",
    "    elif engine == \"GROMACS\":\n",
    "        process = BSS.Process.Gromacs(system, protocol)\n",
    "    elif engine == \"OpenMM\":\n",
    "        process = BSS.Process.OpenMM(system, protocol)\n",
    "    # Start the process.\n",
    "    process.start()\n",
    "\n",
    "    # Wait for the process to exit.\n",
    "    process.wait()\n",
    "\n",
    "    # Check for errors.\n",
    "    if process.isError():\n",
    "        print(process.stdout())\n",
    "        print(process.stderr())\n",
    "        raise _Exceptions.ThirdPartyError(\"The process exited with an error!\")\n",
    "\n",
    "    # If it worked, try to get the system. No need to block, since it's already finished.\n",
    "    system = process.getSystem()\n",
    "\n",
    "    return system"
   ]
  },
  {
   "cell_type": "code",
   "execution_count": null,
   "id": "c7f4d07a",
   "metadata": {},
   "outputs": [],
   "source": [
    "# Initialise the node object\n",
    "node = BSS.Gateway.Node(\"Equilibrate a solvated ligand.\")\n",
    "# Set the node author and license.\n",
    "node.addAuthor(\n",
    "    name=\"Julien Michel\",\n",
    "    email=\"julien.michel@ed.ac.uk\",\n",
    "    affiliation=\"University of Edinburgh\",\n",
    ")\n",
    "node.setLicense(\"GPLv3\")\n",
    "\n",
    "### Set the node inputs\n",
    "node.addInput(\n",
    "    \"system\",\n",
    "    BSS.Gateway.FileSet(\n",
    "        help=\"A topology/coordinate representation of a solvated complex.\"\n",
    "    ),\n",
    ")\n",
    "\n",
    "node.addInput(\n",
    "    \"minsteps\",\n",
    "    BSS.Gateway.Integer(\n",
    "        help=\"The max number of energy minimisation steps.\", default=250\n",
    "    ),\n",
    ")\n",
    "\n",
    "node.addInput(\n",
    "    \"nvt_restrained\",\n",
    "    BSS.Gateway.Time(\n",
    "        help=\"The duration of the NVT restrained equilibration stage.\",\n",
    "        default=5,\n",
    "        unit=\"picoseconds\",\n",
    "    ),\n",
    ")\n",
    "node.addInput(\n",
    "    \"nvt\",\n",
    "    BSS.Gateway.Time(\n",
    "        help=\"The duration of the NVT restrained equilibration stage.\",\n",
    "        default=50,\n",
    "        unit=\"picoseconds\",\n",
    "    ),\n",
    ")\n",
    "node.addInput(\n",
    "    \"npt\",\n",
    "    BSS.Gateway.Time(\n",
    "        help=\"The duration of the NVT restrained equilibration stage.\",\n",
    "        default=200,\n",
    "        unit=\"picoseconds\",\n",
    "    ),\n",
    ")\n",
    "node.addInput(\n",
    "    \"MDengine\",\n",
    "    BSS.Gateway.String(\n",
    "        help=\"The MD engine to use for equilibration/minimisation.\",\n",
    "        allowed=[\"AMBER\", \"GROMACS\", \"OpenMM\"],\n",
    "        default=\"GROMACS\",\n",
    "    ),\n",
    ")\n",
    "### Set the node outputs\n",
    "node.addOutput(\"system_eq\", BSS.Gateway.FileSet(help=\"The equilibrated system.\"))"
   ]
  },
  {
   "cell_type": "code",
   "execution_count": null,
   "id": "2c218216",
   "metadata": {},
   "outputs": [],
   "source": [
    "node.showControls()"
   ]
  },
  {
   "cell_type": "code",
   "execution_count": null,
   "id": "6615e838",
   "metadata": {},
   "outputs": [],
   "source": [
    "#######################################\n",
    "### Load the system  ##\n",
    "#######################################\n",
    "system = BSS.IO.readMolecules(node.getInput(\"system\"))"
   ]
  },
  {
   "cell_type": "code",
   "execution_count": null,
   "id": "4648b8d1",
   "metadata": {},
   "outputs": [],
   "source": [
    "engine = node.getInput(\"MDengine\")\n",
    "print(\"The simulation engine is %s\" % engine)"
   ]
  },
  {
   "cell_type": "code",
   "execution_count": null,
   "id": "6952fd82",
   "metadata": {},
   "outputs": [],
   "source": [
    "# Minimisation #\n",
    "print(f\"Minimisation stage..\")\n",
    "protocol = BSS.Protocol.Minimisation(steps=node.getInput(\"minsteps\"))\n",
    "minimised = runProcess(system, protocol, engine=engine)"
   ]
  },
  {
   "cell_type": "code",
   "execution_count": null,
   "id": "9fbded39",
   "metadata": {},
   "outputs": [],
   "source": [
    "print(f\"NVT equilibration while restraining all non-solvent atoms..\")\n",
    "protocol = BSS.Protocol.Equilibration(\n",
    "    runtime=node.getInput(\"nvt_restrained\"),\n",
    "    temperature_start=0 * BSS.Units.Temperature.kelvin,\n",
    "    temperature_end=300 * BSS.Units.Temperature.kelvin,\n",
    "    restraint=\"all\",\n",
    ")\n",
    "equil1 = runProcess(minimised, protocol, engine=engine)"
   ]
  },
  {
   "cell_type": "code",
   "execution_count": null,
   "id": "e640bf41",
   "metadata": {},
   "outputs": [],
   "source": [
    "print(f\"NVT equilibration while restraining all backbone atoms..\")\n",
    "protocol = BSS.Protocol.Equilibration(\n",
    "    runtime=node.getInput(\"nvt\"),\n",
    "    temperature=300 * BSS.Units.Temperature.kelvin,\n",
    "    restraint=\"backbone\",\n",
    ")\n",
    "equil2 = runProcess(equil1, protocol, engine=engine)"
   ]
  },
  {
   "cell_type": "code",
   "execution_count": null,
   "id": "135deeb6",
   "metadata": {},
   "outputs": [],
   "source": [
    "print(f\"NVT equilibration  without restraints..\")\n",
    "protocol = BSS.Protocol.Equilibration(\n",
    "    runtime=node.getInput(\"nvt\"), temperature=300 * BSS.Units.Temperature.kelvin\n",
    ")\n",
    "\n",
    "equil3 = runProcess(equil2, protocol, engine=engine)"
   ]
  },
  {
   "cell_type": "code",
   "execution_count": null,
   "id": "47651035",
   "metadata": {},
   "outputs": [],
   "source": [
    "print(f\"NPT equilibration while restraining non-solvent heavy atoms..\")\n",
    "protocol = BSS.Protocol.Equilibration(\n",
    "    runtime=node.getInput(\"npt\"),\n",
    "    pressure=1 * BSS.Units.Pressure.atm,\n",
    "    temperature=300 * BSS.Units.Temperature.kelvin,\n",
    "    restraint=\"heavy\",\n",
    ")\n",
    "equil4 = runProcess(equil3, protocol, engine=engine)"
   ]
  },
  {
   "cell_type": "code",
   "execution_count": null,
   "id": "58eab075",
   "metadata": {},
   "outputs": [],
   "source": [
    "print(f\"NPT equilibration  without restraints..\")\n",
    "protocol = BSS.Protocol.Equilibration(\n",
    "    runtime=node.getInput(\"npt\"),\n",
    "    pressure=1 * BSS.Units.Pressure.atm,\n",
    "    temperature=300 * BSS.Units.Temperature.kelvin,\n",
    ")\n",
    "system_eq = runProcess(equil4, protocol, engine=engine)"
   ]
  },
  {
   "cell_type": "code",
   "execution_count": null,
   "id": "f93ee112",
   "metadata": {},
   "outputs": [],
   "source": [
    "# Save systems\n",
    "node.setOutput(\n",
    "    \"system_eq\", BSS.IO.saveMolecules(\"bound_eq\", system_eq, [\"PRM7\", \"RST7\"])\n",
    ")"
   ]
  },
  {
   "cell_type": "code",
   "execution_count": null,
   "id": "bb656187",
   "metadata": {},
   "outputs": [],
   "source": [
    "node.validate()"
   ]
  },
  {
   "cell_type": "code",
   "execution_count": null,
   "id": "326afe27",
   "metadata": {},
   "outputs": [],
   "source": []
  }
 ],
 "metadata": {
  "kernelspec": {
   "display_name": "Python 3 (ipykernel)",
   "language": "python",
   "name": "python3"
  },
  "language_info": {
   "codemirror_mode": {
    "name": "ipython",
    "version": 3
   },
   "file_extension": ".py",
   "mimetype": "text/x-python",
   "name": "python",
   "nbconvert_exporter": "python",
   "pygments_lexer": "ipython3"
  }
 },
 "nbformat": 4,
 "nbformat_minor": 5
}
