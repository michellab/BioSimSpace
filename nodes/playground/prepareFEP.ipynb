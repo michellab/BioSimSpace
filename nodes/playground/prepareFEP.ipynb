{
 "cells": [
  {
   "cell_type": "markdown",
   "metadata": {},
   "source": [
    "Author: Julien Michel\n",
    "\n",
    "email: julien.michel@ed.ac.uk"
   ]
  },
  {
   "cell_type": "markdown",
   "metadata": {},
   "source": [
    "# PrepareFEP\n",
    "Loads a pair of input files, perform mapping between the first molecule of each input. Write down input files for a SOMD FEP calculation."
   ]
  },
  {
   "cell_type": "code",
   "execution_count": null,
   "metadata": {},
   "outputs": [],
   "source": [
    "import os\n",
    "import zipfile\n",
    "from sire.legacy.Mol import AtomIdx\n",
    "import BioSimSpace as BSS"
   ]
  },
  {
   "cell_type": "code",
   "execution_count": null,
   "metadata": {},
   "outputs": [],
   "source": [
    "def writeLog(ligA, ligB, mapping):\n",
    "    \"\"\" Human readable report on atoms used for the mapping.\"\"\"\n",
    "    atoms_in_A = list(mapping.keys())\n",
    "    stream = open('somd.mapping','w')\n",
    "    atAdone = []\n",
    "    atBdone= []\n",
    "    for atAidx in atoms_in_A:\n",
    "        atA = ligA._sire_object.select(AtomIdx(atAidx))\n",
    "        atB = ligB._sire_object.select(AtomIdx(mapping[atAidx]))\n",
    "        stream.write(\"%s %s --> %s %s\\n\" % (atA.index(), atA.name(),atB.index(), atB.name()))\n",
    "        atAdone.append(atA)\n",
    "        atBdone.append(atB)\n",
    "    for atom in ligA._sire_object.atoms():\n",
    "        if atom in atAdone:\n",
    "            continue\n",
    "        stream.write(\"%s %s --> dummy\\n\" % (atom.index(), atom.name()))\n",
    "    for atom in ligB._sire_object.atoms():\n",
    "        if atom in atBdone:\n",
    "            continue\n",
    "        stream.write(\"dummy --> %s %s\\n\" % (atom.index(), atom.name()))\n",
    "    stream.close()"
   ]
  },
  {
   "cell_type": "code",
   "execution_count": null,
   "metadata": {},
   "outputs": [],
   "source": [
    "def loadMapping(mapping_file):\n",
    "    \"\"\"Parse a text file that specifies mappings between atomic indices in input1 --> atoms in input2\"\"\"\n",
    "    stream = open(mapping_file,'r')\n",
    "    buffer = stream.readlines()\n",
    "    stream.close()\n",
    "    mapping = {}\n",
    "    for line in buffer:\n",
    "        if line.startswith(\"#\"):\n",
    "            continue\n",
    "        elems = line.split(\",\")\n",
    "        idx1 = int(elems[0])\n",
    "        idx2 = int(elems[1])\n",
    "        mapping[idx1] = idx2\n",
    "    \n",
    "    return mapping"
   ]
  },
  {
   "cell_type": "code",
   "execution_count": null,
   "metadata": {},
   "outputs": [],
   "source": [
    "node = BSS.Gateway.Node(\"A node to generate input files for a SOMD relative free energy calculation.\")"
   ]
  },
  {
   "cell_type": "code",
   "execution_count": null,
   "metadata": {},
   "outputs": [],
   "source": [
    "node.addAuthor(name=\"Julien Michel\", email=\"julien.michel@ed.ac.uk\", affiliation=\"University of Edinburgh\")\n",
    "node.addAuthor(name=\"Lester Hedges\", email=\"lester.hedges@bristol.ac.uk\", affiliation=\"University of Bristol\")\n",
    "node.setLicense(\"GPLv3\")"
   ]
  },
  {
   "cell_type": "code",
   "execution_count": null,
   "metadata": {},
   "outputs": [],
   "source": [
    "node.addInput(\"input1\", BSS.Gateway.FileSet(help=\"A topology and coordinates file\"))\n",
    "node.addInput(\"input2\", BSS.Gateway.FileSet(help=\"A topology and coordinates file\"))\n",
    "node.addInput(\"prematch\", BSS.Gateway.String(help=\"list of atom indices that are matched between input2 and input1. Syntax is of the format 1-3,4-8,9-11... Ignored if a mapping is provided\", default=\"\"))\n",
    "node.addInput(\"mapping\", BSS.Gateway.File(help=\"csv file that contains atom indices in input1 mapped ot atom indices in input2\", optional=True))\n",
    "node.addInput(\"timeout\", BSS.Gateway.Time(help=\"The timeout for the maximum common substructure search\", default=10*BSS.Units.Time.second))\n",
    "node.addInput(\"allow_ring_breaking\", BSS.Gateway.Boolean(help=\"Whether to allow opening/closing of rings during merge\", default=False))\n",
    "node.addInput(\"allow_ring_size_change\", BSS.Gateway.Boolean(help=\"Whether to allow ring size changes during merge\", default=False))\n",
    "node.addInput(\"output\", BSS.Gateway.String(help=\"The root name for the files describing the perturbation input1->input2.\"))"
   ]
  },
  {
   "cell_type": "code",
   "execution_count": null,
   "metadata": {},
   "outputs": [],
   "source": [
    "node.addOutput(\"nodeoutput\", BSS.Gateway.FileSet(help=\"SOMD input files for a perturbation of input1->input2.\"))"
   ]
  },
  {
   "cell_type": "code",
   "execution_count": null,
   "metadata": {},
   "outputs": [],
   "source": [
    "node.showControls()"
   ]
  },
  {
   "cell_type": "code",
   "execution_count": null,
   "metadata": {},
   "outputs": [],
   "source": [
    "do_mapping = True\n",
    "custom_mapping = node.getInput(\"mapping\")\n",
    "#print (custom_mapping)\n",
    "if custom_mapping is not None:\n",
    "    do_mapping = False\n",
    "    mapping = loadMapping(custom_mapping)\n",
    "    #print (mapping)"
   ]
  },
  {
   "cell_type": "code",
   "execution_count": null,
   "metadata": {},
   "outputs": [],
   "source": [
    "# Optional input, dictionary of Atom indices that should be matched in the search. \n",
    "prematch = {}\n",
    "prematchstring = node.getInput(\"prematch\")\n",
    "if len(prematchstring) > 0: \n",
    "    entries = prematchstring.split(\",\")\n",
    "    for entry in entries:\n",
    "        idxA, idxB = entry.split(\"-\")\n",
    "        prematch[int(idxA)] = int(idxB)\n",
    "#print (prematch)"
   ]
  },
  {
   "cell_type": "code",
   "execution_count": null,
   "metadata": {},
   "outputs": [],
   "source": [
    "# Load system 1\n",
    "system1 = BSS.IO.readMolecules(node.getInput(\"input1\"))"
   ]
  },
  {
   "cell_type": "code",
   "execution_count": null,
   "metadata": {},
   "outputs": [],
   "source": [
    "# Load system 2\n",
    "system2 = BSS.IO.readMolecules(node.getInput(\"input2\"))"
   ]
  },
  {
   "cell_type": "code",
   "execution_count": null,
   "metadata": {},
   "outputs": [],
   "source": [
    "# We assume the molecules to perturb are the first molecules in each system\n",
    "lig1 = system1[0]\n",
    "lig2 = system2[0]"
   ]
  },
  {
   "cell_type": "code",
   "execution_count": null,
   "metadata": {},
   "outputs": [],
   "source": [
    "if do_mapping:\n",
    "    # Return a maximum of 10 matches, scored by RMSD and sorted from best to worst.\n",
    "    mappings, scores = BSS.Align.matchAtoms(lig1, lig2, matches=10, prematch=prematch, return_scores=True, scoring_function=\"RMSDalign\", timeout=node.getInput(\"timeout\"))\n",
    "    # We retain the top mapping\n",
    "    mapping = mappings[0]\n",
    "    #print (len(mappings))\n",
    "    #print (mappings)"
   ]
  },
  {
   "cell_type": "code",
   "execution_count": null,
   "metadata": {},
   "outputs": [],
   "source": [
    "#print (mapping)\n",
    "#for x in range(0,len(mappings)):\n",
    "#    print (mappings[x], scores[x])"
   ]
  },
  {
   "cell_type": "code",
   "execution_count": null,
   "metadata": {},
   "outputs": [],
   "source": [
    "inverted_mapping = dict([[v,k] for k,v in mapping.items()])\n",
    "#print (inverted_mapping)"
   ]
  },
  {
   "cell_type": "code",
   "execution_count": null,
   "metadata": {},
   "outputs": [],
   "source": [
    "# Align lig2 to lig1 based on the best mapping (inverted). The molecule is aligned based\n",
    "# on a root mean squared displacement fit to find the optimal translation vector\n",
    "# (as opposed to merely taking the difference of centroids).\n",
    "lig2 = BSS.Align.rmsdAlign(lig2, lig1, inverted_mapping)\n",
    "# Merge the two ligands based on the mapping.\n",
    "merged = BSS.Align.merge(lig1, lig2, mapping, allow_ring_breaking=node.getInput(\"allow_ring_breaking\"), allow_ring_size_change=node.getInput(\"allow_ring_size_change\"))\n",
    "# Create a composite system\n",
    "system1.removeMolecules(lig1)\n",
    "system1.addMolecules(merged)"
   ]
  },
  {
   "cell_type": "code",
   "execution_count": null,
   "metadata": {},
   "outputs": [],
   "source": [
    "# Log the mapping used\n",
    "writeLog(lig1, lig2, mapping)\n",
    "BSS.IO.saveMolecules(\"merged_at_lam0.pdb\", merged, \"PDB\", { \"coordinates\" : \"coordinates0\" , \"bond\" : \"bond0\", \"element\": \"element0\" })\n",
    "# Generate package specific input\n",
    "protocol = BSS.Protocol.FreeEnergy(runtime = 2*BSS.Units.Time.femtosecond, num_lam=3)\n",
    "process = BSS.Process.Somd(system1, protocol)\n",
    "process.getOutput()\n",
    "with zipfile.ZipFile(\"somd_output.zip\", \"r\") as zip_hnd:\n",
    "    zip_hnd.extractall(\".\")"
   ]
  },
  {
   "cell_type": "code",
   "execution_count": null,
   "metadata": {},
   "outputs": [],
   "source": [
    "root = node.getInput(\"output\")\n",
    "mergedpdb = \"%s.mergeat0.pdb\" % root\n",
    "pert = \"%s.pert\" % root\n",
    "prm7 = \"%s.prm7\" % root\n",
    "rst7 = \"%s.rst7\" % root\n",
    "mapping_str = \"%s.mapping\" % root"
   ]
  },
  {
   "cell_type": "code",
   "execution_count": null,
   "metadata": {},
   "outputs": [],
   "source": [
    "os.replace(\"merged_at_lam0.pdb\", mergedpdb)\n",
    "os.replace(\"somd.pert\", pert)\n",
    "os.replace(\"somd.prm7\", prm7)\n",
    "os.replace(\"somd.rst7\", rst7)\n",
    "os.replace(\"somd.mapping\", mapping_str)\n",
    "try:\n",
    "    os.remove(\"somd_output.zip\")\n",
    "    os.remove(\"somd.cfg\")\n",
    "    os.remove(\"somd.err\")\n",
    "    os.remove(\"somd.out\")\n",
    "except Exception:\n",
    "    pass"
   ]
  },
  {
   "cell_type": "code",
   "execution_count": null,
   "metadata": {},
   "outputs": [],
   "source": [
    "node.setOutput(\"nodeoutput\",[mergedpdb, pert, prm7, rst7, mapping_str])"
   ]
  },
  {
   "cell_type": "code",
   "execution_count": null,
   "metadata": {},
   "outputs": [],
   "source": [
    "node.validate()"
   ]
  }
 ],
 "metadata": {
  "kernelspec": {
   "display_name": "Python 3",
   "language": "python",
   "name": "python3"
  },
  "language_info": {
   "codemirror_mode": {
    "name": "ipython",
    "version": 3
   },
   "file_extension": ".py",
   "mimetype": "text/x-python",
   "name": "python",
   "nbconvert_exporter": "python",
   "pygments_lexer": "ipython3",
   "version": "3.7.3"
  }
 },
 "nbformat": 4,
 "nbformat_minor": 2
}
